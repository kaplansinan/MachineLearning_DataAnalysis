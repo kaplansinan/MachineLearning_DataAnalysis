{
 "cells": [
  {
   "cell_type": "markdown",
   "metadata": {},
   "source": [
    "## Import needed libraries\n",
    "- [numpy](http://cs231n.github.io/python-numpy-tutorial/#numpy-arrays): for multidimensional array computations\n",
    "- [pandas](http://pandas.pydata.org/): advanced numpy based data structures\n",
    "- [matplotlib](http://matplotlib.org/): for plots and figures\n",
    "- [seaborn](http://seaborn.pydata.org/): advanced data visualization library\n",
    "- [sklearn](http://scikit-learn.org/stable/): machine learning library\n",
    "- [scipy stats](https://docs.scipy.org/doc/scipy/reference/stats.html): statistical functions"
   ]
  },
  {
   "cell_type": "code",
   "execution_count": 1,
   "metadata": {
    "collapsed": false
   },
   "outputs": [],
   "source": [
    "import numpy as np\n",
    "import pandas as pd \n",
    "import seaborn as sns\n",
    "import matplotlib\n",
    "import matplotlib.pyplot as plt\n",
    "from sklearn.preprocessing import scale\n",
    "from scipy.stats import skew, skewtest\n",
    "from sklearn.linear_model import BayesianRidge, LinearRegression\n",
    "from sklearn.svm import SVR\n",
    "from sklearn.ensemble import RandomForestRegressor\n",
    "from sklearn import neighbors\n",
    "from sklearn.neural_network import MLPRegressor\n",
    "from sklearn.model_selection import cross_val_score\n",
    "%config InlineBackend.figure_format = 'png' \n",
    "%matplotlib inline"
   ]
  },
  {
   "cell_type": "markdown",
   "metadata": {},
   "source": [
    "### Read the data"
   ]
  },
  {
   "cell_type": "code",
   "execution_count": 2,
   "metadata": {
    "collapsed": false
   },
   "outputs": [
    {
     "name": "stdout",
     "output_type": "stream",
     "text": [
      "(2919, 79)\n"
     ]
    }
   ],
   "source": [
    "train = pd.read_csv('../data/train.csv')\n",
    "test =  pd.read_csv('../data/test.csv')\n",
    "all_data = pd.concat((train.loc[:,'MSSubClass':'SaleCondition'],\n",
    "                      test.loc[:,'MSSubClass':'SaleCondition']))\n",
    "print(all_data.shape)"
   ]
  },
  {
   "cell_type": "markdown",
   "metadata": {},
   "source": [
    "## Preprocessing the data\n",
    "#### Step 1: Take tranformations of skewed numeric features\n",
    "#### Step 2: FInding dummy variables for categorical features\n",
    "#### Step 3: Replacing nan/null values"
   ]
  },
  {
   "cell_type": "markdown",
   "metadata": {},
   "source": [
    "Before starting the preprocessing, we need to take the log tranformation of the target which Sales Price. This can be done by taking into account non-linearity or errors dues to linear fitting(normalize the errors). For more information about the transformations please check [here](https://people.duke.edu/~rnau/regex3.htm). "
   ]
  },
  {
   "cell_type": "code",
   "execution_count": 3,
   "metadata": {
    "collapsed": false,
    "scrolled": true
   },
   "outputs": [],
   "source": [
    "train[\"SalePrice\"] = np.log1p(train[\"SalePrice\"])"
   ]
  },
  {
   "cell_type": "markdown",
   "metadata": {},
   "source": [
    "#### Let's see the difference "
   ]
  },
  {
   "cell_type": "code",
   "execution_count": 4,
   "metadata": {
    "collapsed": false,
    "scrolled": true
   },
   "outputs": [
    {
     "data": {
      "text/plain": [
       "array([[<matplotlib.axes._subplots.AxesSubplot object at 0x7f725dc2f710>,\n",
       "        <matplotlib.axes._subplots.AxesSubplot object at 0x7f725b8a1f50>]], dtype=object)"
      ]
     },
     "execution_count": 4,
     "metadata": {},
     "output_type": "execute_result"
    },
    {
     "data": {
      "image/png": "[encoded data removed]",
      "text/plain": [
       "<matplotlib.figure.Figure at 0x7f725dc2f250>"
      ]
     },
     "metadata": {},
     "output_type": "display_data"
    }
   ],
   "source": [
    "matplotlib.rcParams['figure.figsize'] = (12.0, 6.0)\n",
    "prices = pd.DataFrame({\"price\":train[\"SalePrice\"], \"log(price + 1)\":np.log1p(train[\"SalePrice\"])})\n",
    "prices.hist()"
   ]
  },
  {
   "cell_type": "markdown",
   "metadata": {},
   "source": [
    "### Step 1: Transformations\n",
    "As explained also above, In this way we will get more normal features "
   ]
  },
  {
   "cell_type": "code",
   "execution_count": 5,
   "metadata": {
    "collapsed": true
   },
   "outputs": [],
   "source": [
    "#log transform skewed numeric features:\n",
    "numeric_feats = all_data.dtypes[all_data.dtypes != \"object\"].index\n",
    "\n",
    "skewed_feats = train[numeric_feats].apply(lambda x: skew(x.dropna())) #compute skewness\n",
    "skewed_feats = skewed_feats[skewed_feats > 0.75]\n",
    "skewed_feats = skewed_feats.index\n",
    "\n",
    "all_data[skewed_feats] = np.log1p(all_data[skewed_feats])"
   ]
  },
  {
   "cell_type": "markdown",
   "metadata": {},
   "source": [
    "### Step 2: Getting dummy variables\n",
    "Why to use dummy variables in regression models? please check [here](http://www.psychstat.missouristate.edu/multibook/mlt08m.html)"
   ]
  },
  {
   "cell_type": "code",
   "execution_count": 6,
   "metadata": {
    "collapsed": true
   },
   "outputs": [],
   "source": [
    "all_data = pd.get_dummies(all_data)"
   ]
  },
  {
   "cell_type": "markdown",
   "metadata": {},
   "source": [
    "### Step 3: Imputation of Missing Values\n",
    "Missing values in each column are filled by the mean of the column."
   ]
  },
  {
   "cell_type": "code",
   "execution_count": 7,
   "metadata": {
    "collapsed": false
   },
   "outputs": [],
   "source": [
    "all_data = all_data.fillna(all_data.mean())\n"
   ]
  },
  {
   "cell_type": "markdown",
   "metadata": {},
   "source": [
    "### Optional Steps\n",
    "#### *Step 4: Removing columns which have moslty zero values (insignificant features can be removed)*\n",
    "#### *Step 5: Apply outlier analysis for training part*\n",
    "#### *Step 6: One can also cretae his/her own features to add the data*"
   ]
  },
  {
   "cell_type": "markdown",
   "metadata": {},
   "source": [
    "### Finalize the data for building the model"
   ]
  },
  {
   "cell_type": "code",
   "execution_count": 8,
   "metadata": {
    "collapsed": true
   },
   "outputs": [],
   "source": [
    "#creating matrices for sklearn:\n",
    "X_train = all_data[:train.shape[0]]\n",
    "X_test = all_data[train.shape[0]:]\n",
    "y = train.SalePrice"
   ]
  },
  {
   "cell_type": "markdown",
   "metadata": {},
   "source": [
    "#### Optional: to save new data \n",
    "Save the currently created matrices for later usage"
   ]
  },
  {
   "cell_type": "code",
   "execution_count": 22,
   "metadata": {
    "collapsed": true
   },
   "outputs": [],
   "source": [
    "# new_test = pd.DataFrame(X_test.copy())\n",
    "# new_test['Id'] = test['Id'].copy()\n",
    "# new_test.to_csv(\"../data/new_test.csv\", index=False)\n",
    "\n",
    "# new_train = pd.DataFrame(X_train.copy())\n",
    "# new_train['SalePrice'] = y.copy()\n",
    "# new_train.to_csv(\"../data/new_train.csv\", index=False)"
   ]
  },
  {
   "cell_type": "markdown",
   "metadata": {},
   "source": [
    "## Build Models \n",
    "Here we will buil following models by taking advantage of scikit-learn Machine Learning library.\n",
    "#### * Model 1 : Multiple Regression (Linear Regression)*\n",
    "#### * Model 2: Bayesian Ridge Regression*\n",
    "#### *Model 3: Support Vector Regression - non-linear kernels*\n",
    "#### *Model 4: Random Forest Regression*\n",
    "#### *Model 5: KNN Regression*\n",
    "#### *Model 6: Model 6: Multilayer perceptron Regression*"
   ]
  },
  {
   "cell_type": "markdown",
   "metadata": {},
   "source": [
    "### Model 1 - Multiple Linear Regression\n",
    "By using all the features in training data, we will fit [Multiple Linear Regression](http://www.stat.yale.edu/Courses/1997-98/101/linmult.htm) to training data."
   ]
  },
  {
   "cell_type": "code",
   "execution_count": 10,
   "metadata": {
    "collapsed": false
   },
   "outputs": [
    {
     "data": {
      "text/plain": [
       "0.94733494399710361"
      ]
     },
     "execution_count": 10,
     "metadata": {},
     "output_type": "execute_result"
    }
   ],
   "source": [
    "# Create linear regression object\n",
    "linear_regr = LinearRegression()\n",
    "# apply-cross validation\n",
    "# linear_reg_scores = cross_val_score(linear_regr, X_train, y, cv=5)\n",
    "\n",
    "# Train the model using the training sets\n",
    "linear_regr.fit(X_train, y)\n",
    "# make predictions on the test set\n",
    "y_linear_regr_pred = linear_regr.predict(X_test)\n",
    "# calculate R2 value as a measurement of goodness of fit\n",
    "R2_lr = linear_regr.score(X_train,y)\n",
    "R2_lr"
   ]
  },
  {
   "cell_type": "code",
   "execution_count": 11,
   "metadata": {
    "collapsed": false
   },
   "outputs": [],
   "source": [
    "#save the file\n",
    "lr_sol = pd.DataFrame({\"id\":test.Id, \"SalePrice\":y_linear_regr_pred})\n",
    "lr_sol.to_csv(\"../data/linreg_sol.csv\", index = False)"
   ]
  },
  {
   "cell_type": "markdown",
   "metadata": {},
   "source": [
    "### Model 2: Bayesian Ridge Regression\n",
    "Bayesian Ridge Regression takes advantage of Bayesian statistics and introduces regularization parameters in the estimation procedure of coefficients. More detailed explanation, please check [here]( http://scikit-learn.org/stable/modules/linear_model.html#bayesian-ridge-regression)."
   ]
  },
  {
   "cell_type": "code",
   "execution_count": 12,
   "metadata": {
    "collapsed": false
   },
   "outputs": [
    {
     "data": {
      "text/plain": [
       "0.93412450060140229"
      ]
     },
     "execution_count": 12,
     "metadata": {},
     "output_type": "execute_result"
    }
   ],
   "source": [
    "# Create bayesian regression object\n",
    "bayes_reg = BayesianRidge(compute_score=True)\n",
    "# train the model\n",
    "bayes_reg.fit(X_train, y)\n",
    "# make predictions on the test set\n",
    "y_bayes_regr_pred = bayes_reg.predict(X_test)\n",
    "# calculate R2 value as a measurement of goodness of fit\n",
    "R2_byr = bayes_reg.score(X_train,y)\n",
    "R2_byr"
   ]
  },
  {
   "cell_type": "code",
   "execution_count": 13,
   "metadata": {
    "collapsed": true
   },
   "outputs": [],
   "source": [
    "#save the file\n",
    "br_sol = pd.DataFrame({\"id\":test.Id, \"SalePrice\":y_bayes_regr_pred})\n",
    "br_sol.to_csv(\"../data/bayesreg_sol.csv\", index = False)"
   ]
  },
  {
   "cell_type": "markdown",
   "metadata": {},
   "source": [
    "### Model 3: Support Vector Regression - non-linear kernels\n",
    "Here we will apply Support Vector Machines for regression and non-linear kernels will be used instead of linear kernels. To get the main intuition behind this technique, please refer to [here](http://kernelsvm.tripod.com/)."
   ]
  },
  {
   "cell_type": "code",
   "execution_count": 14,
   "metadata": {
    "collapsed": false
   },
   "outputs": [
    {
     "data": {
      "text/plain": [
       "0.94612459037302221"
      ]
     },
     "execution_count": 14,
     "metadata": {},
     "output_type": "execute_result"
    }
   ],
   "source": [
    "# Create SVR object\n",
    "svr_lin =  SVR(kernel='rbf', C=1e3, gamma=0.1)\n",
    "# train the model\n",
    "svr_lin.fit(X_train, y)\n",
    "# make predictions on the test set\n",
    "y_svr_regr_pred = svr_lin.predict(X_test)\n",
    "# calculate R2 value as a measurement of goodness of fit\n",
    "R2_svr = svr_lin.score(X_train,y)\n",
    "R2_svr"
   ]
  },
  {
   "cell_type": "code",
   "execution_count": 15,
   "metadata": {
    "collapsed": true
   },
   "outputs": [],
   "source": [
    "#save the file\n",
    "br_sol = pd.DataFrame({\"id\":test.Id, \"SalePrice\":y_svr_regr_pred})\n",
    "br_sol.to_csv(\"../data/svrreg_sol.csv\", index = False)"
   ]
  },
  {
   "cell_type": "markdown",
   "metadata": {},
   "source": [
    "### Model 4: Random Forest Regression\n",
    "This method applies Random Forest  as a decision tree classifier and adapts it into regression tasks. For more specific features of this method, please chec [here](http://scikit-learn.org/stable/modules/generated/sklearn.ensemble.RandomForestRegressor.html)."
   ]
  },
  {
   "cell_type": "code",
   "execution_count": 15,
   "metadata": {
    "collapsed": false
   },
   "outputs": [
    {
     "data": {
      "text/plain": [
       "0.97380970282988433"
      ]
     },
     "execution_count": 15,
     "metadata": {},
     "output_type": "execute_result"
    }
   ],
   "source": [
    "# Create Random Forest regressor object with default settings\n",
    "rf_regr = RandomForestRegressor()\n",
    "# train the model\n",
    "rf_regr.fit(X_train, y)\n",
    "# make predictions on the test set\n",
    "y_rf_regr_pred = rf_regr.predict(X_test)\n",
    "# calculate R2 value as a measurement of goodness of fit\n",
    "R2_rf = rf_regr.score(X_train,y)\n",
    "R2_rf"
   ]
  },
  {
   "cell_type": "code",
   "execution_count": 16,
   "metadata": {
    "collapsed": true
   },
   "outputs": [],
   "source": [
    "#save the file\n",
    "br_sol = pd.DataFrame({\"id\":test.Id, \"SalePrice\":y_rf_regr_pred})\n",
    "br_sol.to_csv(\"../data/rfreg_sol.csv\", index = False)"
   ]
  },
  {
   "cell_type": "markdown",
   "metadata": {},
   "source": [
    "### Model 5: KNN Regression\n",
    "This method relies on k-nearest neighbor method for regression tasks. Basically, it finds k-nearest neighbor of an observation and averages them to get final value. More info can be seen [here](http://scikit-learn.org/stable/modules/generated/sklearn.neighbors.KNeighborsRegressor.html)."
   ]
  },
  {
   "cell_type": "code",
   "execution_count": 18,
   "metadata": {
    "collapsed": false
   },
   "outputs": [
    {
     "data": {
      "text/plain": [
       "0.74316181150475491"
      ]
     },
     "execution_count": 18,
     "metadata": {},
     "output_type": "execute_result"
    }
   ],
   "source": [
    "# Create KNN regression object\n",
    "knn_regr = neighbors.KNeighborsRegressor(n_neighbors=5, weights='uniform')\n",
    "# train the model\n",
    "knn_regr.fit(X_train, y)\n",
    "# make predictions on the test set\n",
    "y_knn_regr_pred = knn_regr.predict(X_test)\n",
    "# calculate R2 value as a measurement of goodness of fit\n",
    "R2_knn = knn_regr.score(X_train,y)\n",
    "R2_knn"
   ]
  },
  {
   "cell_type": "code",
   "execution_count": 19,
   "metadata": {
    "collapsed": true
   },
   "outputs": [],
   "source": [
    "#save the file\n",
    "br_sol = pd.DataFrame({\"id\":test.Id, \"SalePrice\":y_knn_regr_pred})\n",
    "br_sol.to_csv(\"../data/knnreg_sol.csv\", index = False)"
   ]
  },
  {
   "cell_type": "markdown",
   "metadata": {},
   "source": [
    "### Model 6: Multilayer perceptron Regression\n",
    "\n",
    "This is an adaptation of neural networks for regression tasks. The main difference is that it doesnot use any activation functions at output layer. For more details, please check [here](http://scikit-learn.org/stable/modules/neural_networks_supervised.html#regression)."
   ]
  },
  {
   "cell_type": "code",
   "execution_count": 21,
   "metadata": {
    "collapsed": false
   },
   "outputs": [
    {
     "data": {
      "text/plain": [
       "0.51934369983188033"
      ]
     },
     "execution_count": 21,
     "metadata": {},
     "output_type": "execute_result"
    }
   ],
   "source": [
    "# # Create MLP regression object\n",
    "mlp_reg = MLPRegressor(hidden_layer_sizes=(20,30,20,20,20), activation='relu', solver='adam',\n",
    "                        alpha=0.0001, batch_size='auto')\n",
    "# # train the model\n",
    "mlp_reg.fit(X_train, y)\n",
    "# # make predictions on the test set\n",
    "y_mlp_regr_pred = mlp_reg.predict(X_test)\n",
    "# calculate R2 value as a measurement of goodness of fit\n",
    "R2_mlp = mlp_reg.score(X_train,y)\n",
    "R2_mlp"
   ]
  },
  {
   "cell_type": "code",
   "execution_count": 22,
   "metadata": {
    "collapsed": true
   },
   "outputs": [],
   "source": [
    "#save the file\n",
    "br_sol = pd.DataFrame({\"id\":test.Id, \"SalePrice\":y_mlp_regr_pred})\n",
    "br_sol.to_csv(\"../data/mlpreg_sol.csv\", index = False)"
   ]
  },
  {
   "cell_type": "markdown",
   "metadata": {},
   "source": [
    "## One-way ANOVA Analysis\n",
    "\n",
    "Here we are going to implement anova analysis for the obtained results from different classifiers"
   ]
  },
  {
   "cell_type": "code",
   "execution_count": 23,
   "metadata": {
    "collapsed": false
   },
   "outputs": [
    {
     "name": "stderr",
     "output_type": "stream",
     "text": [
      "/home/sinan/anaconda2/envs/gl-env/lib/python2.7/site-packages/matplotlib/__init__.py:1357: UserWarning:  This call to matplotlib.use() has no effect\n",
      "because the backend has already been chosen;\n",
      "matplotlib.use() must be called *before* pylab, matplotlib.pyplot,\n",
      "or matplotlib.backends is imported for the first time.\n",
      "\n",
      "  warnings.warn(_use_error_msg)\n"
     ]
    }
   ],
   "source": [
    "# to save figures\n",
    "matplotlib.use('agg')"
   ]
  },
  {
   "cell_type": "markdown",
   "metadata": {},
   "source": [
    "### Combine all predictions into single frame\n",
    "For boxplot analysis, we need to combine all the predictions obtained from every single model on the test data."
   ]
  },
  {
   "cell_type": "code",
   "execution_count": 27,
   "metadata": {
    "collapsed": false
   },
   "outputs": [],
   "source": [
    "## combine these different collections into a list    \n",
    "data_to_plot = [y_linear_regr_pred, y_bayes_regr_pred,y_knn_regr_pred,\n",
    "                y_mlp_regr_pred,y_rf_regr_pred,y_svr_regr_pred]\n"
   ]
  },
  {
   "cell_type": "markdown",
   "metadata": {},
   "source": [
    "#### Boxplot Analysis\n",
    "Here we will plot the boxplot to see outliers and any difference among the predictions of each model."
   ]
  },
  {
   "cell_type": "code",
   "execution_count": 25,
   "metadata": {
    "collapsed": false,
    "scrolled": true
   },
   "outputs": [
    {
     "data": {
      "image/png": "[encoded data removed]",
      "text/plain": [
       "<matplotlib.figure.Figure at 0x7f725b729ad0>"
      ]
     },
     "metadata": {},
     "output_type": "display_data"
    }
   ],
   "source": [
    "# Create a figure instance\n",
    "fig = plt.figure(1, figsize=(12, 9))\n",
    "\n",
    "# Create an axes instance\n",
    "ax = fig.add_subplot(111)\n",
    "\n",
    "\n",
    "## add patch_artist=True option to ax.boxplot() \n",
    "## to get fill color\n",
    "bp = ax.boxplot(data_to_plot, patch_artist=True,showmeans=True)\n",
    "## Custom x-axis labels\n",
    "ax.set_xticklabels(['Linear_Regression', 'Bayes_Ridge_Regression', 'KNN_Regresssion', \n",
    "                    'MLP_Regression','Random_Forest','SVM_Regression'])\n",
    "## change outline color, fill color and linewidth of the boxes\n",
    "for box in bp['boxes']:\n",
    "    # change outline color\n",
    "    box.set( color='#7570b3', linewidth=2)\n",
    "    # change fill color\n",
    "    box.set( facecolor = '#1b9e77' )\n",
    "\n",
    "## change color and linewidth of the whiskers\n",
    "for whisker in bp['whiskers']:\n",
    "    whisker.set(color='#7570b3', linewidth=2)\n",
    "\n",
    "## change color and linewidth of the caps\n",
    "for cap in bp['caps']:\n",
    "    cap.set(color='#7570b3', linewidth=2)\n",
    "\n",
    "## change color and linewidth of the medians\n",
    "for median in bp['medians']:\n",
    "    median.set(color='#b2df8a', linewidth=2)\n",
    "\n",
    "## change the style of fliers and their fill\n",
    "for flier in bp['fliers']:\n",
    "    flier.set(marker='o', color='#e7298a', alpha=0.5)"
   ]
  },
  {
   "cell_type": "code",
   "execution_count": 28,
   "metadata": {
    "collapsed": false
   },
   "outputs": [],
   "source": [
    "# Save the figure\n",
    "fig.savefig('../data/fig1.png', bbox_inches='tight')"
   ]
  },
  {
   "cell_type": "markdown",
   "metadata": {},
   "source": [
    "### Start Anova Analysis\n",
    "We will first calculate mean and std of each model's predictions and then we will conduct our anova analysis."
   ]
  },
  {
   "cell_type": "markdown",
   "metadata": {},
   "source": [
    "#### import related library for anova analysis"
   ]
  },
  {
   "cell_type": "code",
   "execution_count": 29,
   "metadata": {
    "collapsed": true
   },
   "outputs": [],
   "source": [
    "from pyvttbl import DataFrame"
   ]
  },
  {
   "cell_type": "markdown",
   "metadata": {},
   "source": [
    "### Compute mean and std of each prediction set"
   ]
  },
  {
   "cell_type": "code",
   "execution_count": 34,
   "metadata": {
    "collapsed": false
   },
   "outputs": [
    {
     "data": {
      "text/plain": [
       "array([ 11.90210534,  11.94151317,  12.07982438, ...,  12.04482369,\n",
       "        11.69330536,  12.25373752])"
      ]
     },
     "execution_count": 34,
     "metadata": {},
     "output_type": "execute_result"
    }
   ],
   "source": [
    "# compute mean\n",
    "mean_all = np.mean([y_linear_regr_pred,y_bayes_regr_pred,y_knn_regr_pred,y_mlp_regr_pred,\n",
    "                            y_rf_regr_pred,y_svr_regr_pred], axis = 0)\n",
    "mean_all"
   ]
  },
  {
   "cell_type": "code",
   "execution_count": 35,
   "metadata": {
    "collapsed": false
   },
   "outputs": [
    {
     "data": {
      "text/plain": [
       "array([ 0.19961446,  0.08577041,  0.0471596 , ...,  0.09256046,\n",
       "        0.18175635,  0.11246868])"
      ]
     },
     "execution_count": 35,
     "metadata": {},
     "output_type": "execute_result"
    }
   ],
   "source": [
    "# compute mean\n",
    "std_all = np.std([y_linear_regr_pred,y_bayes_regr_pred,y_knn_regr_pred,y_mlp_regr_pred,\n",
    "                            y_rf_regr_pred,y_svr_regr_pred], axis = 0)\n",
    "std_all"
   ]
  },
  {
   "cell_type": "markdown",
   "metadata": {},
   "source": [
    "### Run Anova analysis"
   ]
  },
  {
   "cell_type": "code",
   "execution_count": 47,
   "metadata": {
    "collapsed": false,
    "scrolled": true
   },
   "outputs": [
    {
     "name": "stdout",
     "output_type": "stream",
     "text": [
      "Anova: Single Factor on Regression\n",
      "\n",
      "SUMMARY\n",
      "Groups   Count      Sum      Average   Variance  \n",
      "================================================\n",
      "Bayes     1459   17522.854    12.010       0.157 \n",
      "KNN       1459   17538.063    12.021       0.114 \n",
      "Linear    1459   17547.902    12.027       0.326 \n",
      "MLP       1459   17408.225    11.932       0.082 \n",
      "RF        1459   17527.635    12.013       0.141 \n",
      "SVR       1459   17551.242    12.030   2.798e-04 \n",
      "\n",
      "O'BRIEN TEST FOR HOMOGENEITY OF VARIANCE\n",
      "Source of Variation      SS        df      MS       F      P-value    eta^2   Obs. power \n",
      "========================================================================================\n",
      "Treatments               84.939      5   16.988   8.016   1.497e-07   0.005        1.000 \n",
      "Error                 18539.681   8748    2.119                                          \n",
      "========================================================================================\n",
      "Total                 18624.620   8753                                                   \n",
      "\n",
      "ANOVA\n",
      "Source of Variation      SS       df     MS       F       P-value    eta^2   Obs. power \n",
      "=======================================================================================\n",
      "Treatments               9.969      5   1.994   14.583   2.912e-14   0.008        1.000 \n",
      "Error                 1196.010   8748   0.137                                           \n",
      "=======================================================================================\n",
      "Total                 1205.979   8753                                                   \n",
      "\n",
      "POSTHOC MULTIPLE COMPARISONS\n",
      "\n",
      "Tukey HSD: Table of q-statistics\n",
      "         Bayes     KNN       Linear      MLP         RF         SVR    \n",
      "======================================================================\n",
      "Bayes    0       1.077 ns   1.773 ns   8.116 **   0.339 ns   2.010 ns  \n",
      "KNN              0          0.697 ns   9.193 **   0.738 ns   0.933 ns  \n",
      "Linear                      0          9.890 **   1.435 ns   0.237 ns  \n",
      "MLP                                    0          8.455 **   10.126 ** \n",
      "RF                                                0          1.671 ns  \n",
      "SVR                                                          0         \n",
      "======================================================================\n",
      "  + p < .10 (q-critical[6, 8748] = 3.66100172634)\n",
      "  * p < .05 (q-critical[6, 8748] = 4.03093716692)\n",
      " ** p < .01 (q-critical[6, 8748] = 4.75856010385)\n"
     ]
    }
   ],
   "source": [
    "data1 = pd.DataFrame({\"Regression\":y_linear_regr_pred,\"Group\":\"Linear\"})\n",
    "data2 = pd.DataFrame({\"Regression\":y_bayes_regr_pred,\"Group\":\"Bayes\"})\n",
    "data3 = pd.DataFrame({\"Regression\":y_knn_regr_pred,\"Group\":\"KNN\"})\n",
    "data4 = pd.DataFrame({\"Regression\":y_mlp_regr_pred,\"Group\":\"MLP\"})\n",
    "data5 = pd.DataFrame({\"Regression\":y_rf_regr_pred,\"Group\":\"RF\"})\n",
    "data6 = pd.DataFrame({\"Regression\":y_svr_regr_pred,\"Group\":\"SVR\"})\n",
    "frames = [data1,data2,data3,data4,data5,data6]\n",
    "result = pd.concat(frames)\n",
    "pf = DataFrame(result)\n",
    "# pf.insert(knn_regr)\n",
    "aov_pyvttbl = pf.anova1way(\"Regression\", \"Group\")\n",
    "# # print aov_pyvttbl\n",
    "# help(pf.anova)\n",
    "print(aov_pyvttbl)\n"
   ]
  },
  {
   "cell_type": "markdown",
   "metadata": {},
   "source": [
    "### save the figure"
   ]
  },
  {
   "cell_type": "code",
   "execution_count": 46,
   "metadata": {
    "collapsed": false
   },
   "outputs": [],
   "source": [
    "# from pandas.tools.plotting import table\n",
    "\n",
    "# ax2 = plt.subplot(111, frame_on=False) # no visible frame\n",
    "# ax2.xaxis.set_visible(False)  # hide the x axis\n",
    "# ax2.yaxis.set_visible(False)  # hide the y axis\n",
    "\n",
    "# table(ax2, pd.DataFrame(aov_pyvttbl))  # where df is your data frame\n",
    "\n",
    "# plt.savefig('mytable.png')"
   ]
  }
 ],
 "metadata": {
  "anaconda-cloud": {},
  "kernelspec": {
   "display_name": "Python [conda env:gl-env]",
   "language": "python",
   "name": "conda-env-gl-env-py"
  },
  "language_info": {
   "codemirror_mode": {
    "name": "ipython",
    "version": 2
   },
   "file_extension": ".py",
   "mimetype": "text/x-python",
   "name": "python",
   "nbconvert_exporter": "python",
   "pygments_lexer": "ipython2",
   "version": "2.7.12"
  }
 },
 "nbformat": 4,
 "nbformat_minor": 1
}
